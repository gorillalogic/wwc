{
 "cells": [
  {
   "cell_type": "code",
   "execution_count": 1,
   "id": "intermediate-feeling",
   "metadata": {},
   "outputs": [],
   "source": [
    "# Sentence Detection with Spacy\n",
    "\n",
    "import spacy\n",
    "\n",
    "nlp = spacy.load('en_core_web_sm')"
   ]
  },
  {
   "cell_type": "code",
   "execution_count": 21,
   "id": "expensive-chart",
   "metadata": {},
   "outputs": [],
   "source": [
    "text = \"Imagine this is a long sentence. Now imagine this is a huge sentence as well. Now, this will be even bigger.\"\n",
    "doc = nlp(text)\n",
    "\n",
    "def get_sentences(doc):\n",
    "    return doc.sents\n",
    "\n",
    "def show_sentences(doc):\n",
    "    sentences = get_sentences(doc)\n",
    "    for idx, sentnc in enumerate(sentences):\n",
    "        print(f\"{idx}: {sentnc}\")"
   ]
  },
  {
   "cell_type": "code",
   "execution_count": 7,
   "id": "similar-manitoba",
   "metadata": {},
   "outputs": [
    {
     "name": "stdout",
     "output_type": "stream",
     "text": [
      "<generator object at 0x7fbd3054c440>\n",
      "\n",
      "Imagine this is a long sentence.\n",
      "Now imagine this is a huge sentence as well.\n",
      "Now, this will be even bigger.\n"
     ]
    }
   ],
   "source": [
    "sentences = get_sentences(doc)  # Give us a generator sentence\n",
    "print(sentences)\n",
    "print()\n",
    "# how to handle generators? We have several options\n",
    "# 1. Using for loops\n",
    "# 2. Getting its values through a while loop using next() built-in function\n",
    "\n",
    "show_sentences(doc)"
   ]
  },
  {
   "cell_type": "code",
   "execution_count": 8,
   "id": "chicken-basket",
   "metadata": {},
   "outputs": [
    {
     "ename": "TypeError",
     "evalue": "'generator' object is not subscriptable",
     "output_type": "error",
     "traceback": [
      "\u001b[0;31m---------------------------------------------------------------------------\u001b[0m",
      "\u001b[0;31mTypeError\u001b[0m                                 Traceback (most recent call last)",
      "\u001b[0;32m<ipython-input-8-6043dff241a6>\u001b[0m in \u001b[0;36m<module>\u001b[0;34m\u001b[0m\n\u001b[1;32m      1\u001b[0m \u001b[0;31m# Sentences are not indexable\u001b[0m\u001b[0;34m\u001b[0m\u001b[0;34m\u001b[0m\u001b[0;34m\u001b[0m\u001b[0m\n\u001b[0;32m----> 2\u001b[0;31m \u001b[0msentences\u001b[0m\u001b[0;34m[\u001b[0m\u001b[0;36m0\u001b[0m\u001b[0;34m]\u001b[0m\u001b[0;34m\u001b[0m\u001b[0;34m\u001b[0m\u001b[0m\n\u001b[0m",
      "\u001b[0;31mTypeError\u001b[0m: 'generator' object is not subscriptable"
     ]
    }
   ],
   "source": [
    "# Sentences are not indexable as generators are not subscriptables\n",
    "sentences[0]"
   ]
  },
  {
   "cell_type": "code",
   "execution_count": null,
   "id": "insured-pasta",
   "metadata": {},
   "outputs": [],
   "source": [
    "# Detecting and implementing a custom sentence segmentator"
   ]
  },
  {
   "cell_type": "code",
   "execution_count": 26,
   "id": "major-lincoln",
   "metadata": {},
   "outputs": [
    {
     "name": "stdout",
     "output_type": "stream",
     "text": [
      "0:  Let's say this a really\n",
      "long text with a lot of words---As you have noticed,\n",
      "the text have a\n",
      "weird scenario at \n",
      "the end of\n",
      "a sentence\n",
      "1: ---What can we do in order to split the sentence succesfully?---\n",
      "2: let's gonna do it with spacy---but wait...,\n"
     ]
    }
   ],
   "source": [
    "text = \"\"\" Let's say this a really\n",
    "long text with a lot of words---As you have noticed,\n",
    "the text have a\n",
    "weird scenario at \n",
    "the end of\n",
    "a sentence---What can we do in order to split the sentence succesfully?---let's gonna do it with spacy---but wait..., \"\"\"\n",
    "doc = nlp(text)\n",
    "show_sentences(doc)"
   ]
  },
  {
   "cell_type": "code",
   "execution_count": null,
   "id": "forty-investigation",
   "metadata": {},
   "outputs": [],
   "source": [
    "# Custom segmentator\n",
    "def set_custom_boundaries(doc):\n",
    "    for token in doc[:-1]:\n",
    "        if token.text == '---':\n",
    "            doc[token.i+1].is_sent_start = True\n",
    "    return doc"
   ]
  }
 ],
 "metadata": {
  "kernelspec": {
   "display_name": "Python 3",
   "language": "python",
   "name": "python3"
  },
  "language_info": {
   "codemirror_mode": {
    "name": "ipython",
    "version": 3
   },
   "file_extension": ".py",
   "mimetype": "text/x-python",
   "name": "python",
   "nbconvert_exporter": "python",
   "pygments_lexer": "ipython3",
   "version": "3.7.10"
  }
 },
 "nbformat": 4,
 "nbformat_minor": 5
}
