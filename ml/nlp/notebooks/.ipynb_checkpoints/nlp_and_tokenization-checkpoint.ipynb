{
 "cells": [
  {
   "cell_type": "code",
   "execution_count": 1,
   "id": "controversial-implementation",
   "metadata": {},
   "outputs": [],
   "source": [
    "# NLP: Natural Language Processing\n",
    "#   It's a field of Artificial Intelligence that\n",
    "#   gives the machines the ability to read and understand human language\n",
    "\n",
    "# Human conversations have a lot of information: Topics, tones, selection of words, phasal verbs, etc."
   ]
  }
 ],
 "metadata": {
  "kernelspec": {
   "display_name": "Python 3",
   "language": "python",
   "name": "python3"
  },
  "language_info": {
   "codemirror_mode": {
    "name": "ipython",
    "version": 3
   },
   "file_extension": ".py",
   "mimetype": "text/x-python",
   "name": "python",
   "nbconvert_exporter": "python",
   "pygments_lexer": "ipython3",
   "version": "3.7.10"
  }
 },
 "nbformat": 4,
 "nbformat_minor": 5
}
