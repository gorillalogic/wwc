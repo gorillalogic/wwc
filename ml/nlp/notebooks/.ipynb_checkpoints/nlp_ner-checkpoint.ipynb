{
 "cells": [
  {
   "cell_type": "code",
   "execution_count": null,
   "id": "buried-teddy",
   "metadata": {},
   "outputs": [],
   "source": [
    "# Named-Entity Recognition (NER)\n",
    "# ------------------------------\n",
    "# It seeks to locate and classify named entity mentions in unstructured text into\n",
    "# pre-defined categories such as the person names, organizations, locations, medical\n",
    "# codes, time expressions, quantities, monetary values, percentages, etc."
   ]
  },
  {
   "cell_type": "code",
   "execution_count": 1,
   "id": "prime-balloon",
   "metadata": {},
   "outputs": [],
   "source": [
    "import spacy\n",
    "\n",
    "nlp = spacy.load('en_core_web_sm')"
   ]
  },
  {
   "cell_type": "code",
   "execution_count": 6,
   "id": "streaming-costume",
   "metadata": {},
   "outputs": [],
   "source": [
    "def show_ents(doc):\n",
    "    if doc.ents:\n",
    "        for ent in doc.ents:\n",
    "            print(ent.text + ': ' + ent.label_ + ' - ' + str(spacy.explain(ent.label_)))\n",
    "    else:\n",
    "        print('No entities found')\n",
    "        \n",
    "def get_entities(doc):\n",
    "    return doc.ents"
   ]
  },
  {
   "cell_type": "code",
   "execution_count": 5,
   "id": "wooden-pantyhose",
   "metadata": {},
   "outputs": [
    {
     "name": "stdout",
     "output_type": "stream",
     "text": [
      "Washington, DC: GPE - Countries, cities, states\n",
      "next May: DATE - Absolute or relative dates or periods\n",
      "the Washington Document: ORG - Companies, agencies, institutions, etc.\n"
     ]
    }
   ],
   "source": [
    "# Showing Entities identified by Spacy\n",
    "text = \"May i go to Washington, DC next May to see the Washington Document?\"\n",
    "doc = nlp(text)\n",
    "show_ents(doc)"
   ]
  },
  {
   "cell_type": "code",
   "execution_count": 18,
   "id": "bronze-grass",
   "metadata": {},
   "outputs": [
    {
     "name": "stdout",
     "output_type": "stream",
     "text": [
      "________________________________________\n",
      "ent.text:  Washington, DC\n",
      "ent.label:  382\n",
      "ent.label_: GPE\n",
      "ent.start:  4\n",
      "ent.end:  7\n",
      "ent.start_char:  12\n",
      "ent.end_char:  26\n",
      "________________________________________\n",
      "ent.text:  next May\n",
      "ent.label:  388\n",
      "ent.label_: DATE\n",
      "ent.start:  7\n",
      "ent.end:  9\n",
      "ent.start_char:  27\n",
      "ent.end_char:  35\n",
      "________________________________________\n",
      "ent.text:  the Washington Document\n",
      "ent.label:  381\n",
      "ent.label_: ORG\n",
      "ent.start:  11\n",
      "ent.end:  14\n",
      "ent.start_char:  43\n",
      "ent.end_char:  66\n",
      "the Washington Document\n",
      "<class 'spacy.tokens.span.Span'>\n",
      "the Washington Document\n"
     ]
    }
   ],
   "source": [
    "# Showing entity attributes\n",
    "\n",
    "# - ent.text -> Original text\n",
    "# - ent.label -> entity hash value\n",
    "# - ent.label_ -> entity type description\n",
    "# - ent.start -> Where does the token span starts in the doc\n",
    "# - ent.end -> Where does the token span ends in the doc\n",
    "# - ent.start_char \n",
    "# - ent.end_char\n",
    "ents = get_entities(doc)\n",
    "\n",
    "for ent in ents:\n",
    "    print('_'*40)\n",
    "    print('ent.text: ', ent.text)\n",
    "    print('ent.label: ', ent.label)\n",
    "    print('ent.label_:', ent.label_)\n",
    "    print('ent.start: ', ent.start)\n",
    "    print('ent.end: ', ent.end)\n",
    "    print('ent.start_char: ', ent.start_char)\n",
    "    print('ent.end_char: ', ent.end_char)\n",
    "    \n",
    "print(doc[ent.start: ent.end])\n",
    "print(type(doc[ent.start: ent.end]))\n",
    "print(text[ent.start_char: ent.end_char])"
   ]
  },
  {
   "cell_type": "code",
   "execution_count": 24,
   "id": "fluid-timothy",
   "metadata": {},
   "outputs": [
    {
     "name": "stdout",
     "output_type": "stream",
     "text": [
      "Colombia: GPE - Countries, cities, states\n"
     ]
    }
   ],
   "source": [
    "# Adding a Named Entity to our vocab\n",
    "text = \"Humber, in future he will be located in Colombia\"\n",
    "doc = nlp(text)\n",
    "show_ents(doc)\n",
    "# Humber is not recognizede by Spacy"
   ]
  },
  {
   "cell_type": "code",
   "execution_count": 26,
   "id": "conservative-insider",
   "metadata": {},
   "outputs": [
    {
     "name": "stdout",
     "output_type": "stream",
     "text": [
      "['__class__', '__contains__', '__delattr__', '__dir__', '__doc__', '__eq__', '__format__', '__ge__', '__getattribute__', '__getitem__', '__gt__', '__hash__', '__init__', '__init_subclass__', '__iter__', '__le__', '__len__', '__lt__', '__ne__', '__new__', '__pyx_vtable__', '__reduce__', '__reduce_ex__', '__repr__', '__setattr__', '__sizeof__', '__str__', '__subclasshook__', '_cleanup_stale_strings', '_map', '_reset_and_load', 'add', 'from_bytes', 'from_disk', 'to_bytes', 'to_disk']\n"
     ]
    }
   ],
   "source": [
    "from spacy.tokens import Span\n",
    "\n",
    "new_GPE = doc.vocab.strings[u\"GPE\"]\n",
    "new_ent = Span(doc, 0, 1, label=new_GPE)"
   ]
  }
 ],
 "metadata": {
  "kernelspec": {
   "display_name": "Python 3",
   "language": "python",
   "name": "python3"
  },
  "language_info": {
   "codemirror_mode": {
    "name": "ipython",
    "version": 3
   },
   "file_extension": ".py",
   "mimetype": "text/x-python",
   "name": "python",
   "nbconvert_exporter": "python",
   "pygments_lexer": "ipython3",
   "version": "3.7.10"
  }
 },
 "nbformat": 4,
 "nbformat_minor": 5
}
