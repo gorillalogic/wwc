{
 "cells": [
  {
   "cell_type": "code",
   "execution_count": null,
   "id": "unlike-brand",
   "metadata": {},
   "outputs": [],
   "source": [
    "# Text Classification\n",
    "# -------------------\n",
    "# Definition:\n",
    "#   Text Classification is the processing of labeling or organizing text data into groups.\n",
    "#   It forms a fundamental part of Natural Language Processing. In the digital age that we\n",
    "#   live in we are surrounded by text on our social media accounts, in commercials, on websites, Ebooks, etc. \n",
    "#   Taken from: https://www.educative.io/edpresso/text-classification-in-nlp\n",
    "\n",
    "# Text Classification features\n",
    "# 1. Your model can onky have two results: Either your model is correct or incorrect\n",
    "# 2. Raw text is converted into a vectorized version (ML doesn't really understand text).\n",
    "#    Imagine that a text has a vectorized form (like a matrix). There are many ways of transforming\n",
    "#    raw text into numerical information. \n",
    "\n",
    "# Some Applications of Text Classification:\n",
    "#   - Spam detection\n",
    "#   - Bot comments\n",
    "#   - Topic Labeling\n",
    "#   - Sentiment Analysis\n",
    "\n",
    "# Notes:\n",
    "# - Text classification is a topic of ML\n",
    "# - ML uses algorithms that iteratively learn from data\n",
    "# - A text classification system can be built based on Supervided Machine Learning"
   ]
  },
  {
   "cell_type": "markdown",
   "id": "bridal-tuesday",
   "metadata": {},
   "source": [
    "\n",
    "\n",
    "![](images/supervised_ml.png)\n",
    "Image taken from: https://towardsdatascience.com/what-is-machine-learning-a-short-note-on-supervised-unsupervised-semi-supervised-and-aed1573ae9bb"
   ]
  },
  {
   "cell_type": "code",
   "execution_count": 3,
   "id": "mighty-reducing",
   "metadata": {},
   "outputs": [],
   "source": [
    "# In a ML algotihm model, how do we evaluate the performance of a model?\n",
    "# ----------------------------------------------------------------------\n",
    "# To do so, we have to know some Clasification Metrics:\n",
    "# - Accuracy: \n",
    "#    - Number of correct predictions made by the model divided by the total number of predictions\n",
    "#    - Accuracy is useful when target classes are well balanced (e.g. there are more or less the same amount of positive and negatives comments)\n",
    "            \n",
    "# - Recall:\n",
    "#    - Ability of a model to find all the relevant cases within a dataset\n",
    "#    - The # of true positives divided by the # of true positives plus the # of false negatives.\n",
    "# - Precision:\n",
    "#    - Precision is the ratio between the True Positives and all the Positives\n",
    "#    - The # of true positives divided by the number of true positives plus the # of false positives\n",
    "# - F1-Score:\n",
    "#    - Combination of Recall & Precision\n",
    "\n",
    "# Resources:\n",
    "# - https://www.analyticsvidhya.com/blog/2020/09/precision-recall-machine-learning/\n"
   ]
  },
  {
   "cell_type": "code",
   "execution_count": 2,
   "id": "circular-premiere",
   "metadata": {},
   "outputs": [],
   "source": [
    "# Confusion Matrix: A table to describe the performance of a classification model\n",
    "# ------------------------------------------------------------------------------\n",
    "# Taking as example the Spam Email Detector:\n",
    "# - A text message is Spam (True condition)\n",
    "# - ML model predicted Spam (Predicted condition)\n",
    "\n",
    "# If our model can only output two possible values (correct of incorrect), a True condition could be either correct or incorrect\n",
    "# and a predicted condition could be correct or incorrect. In other words, we have 4 separate groups ad the end of testing\n",
    "# Examples:\n",
    "\n",
    "# A legitimate message was identified as legitimate (Positive Condition, Predicted Positive) -> True Positive\n",
    "# A spam message was identified as spam (Negative Condition, Predicted Negative) -> True Negative\n",
    "# A legitimate message was identified as spam (Positive Condition, Predited Negative) -> False Negative\n",
    "# A spam message was identified as legitimate (Negative Condition, Predicted Positive) -> False Positive"
   ]
  },
  {
   "cell_type": "markdown",
   "id": "welcome-palestinian",
   "metadata": {},
   "source": [
    "![](images/confusion_matrix.png)"
   ]
  },
  {
   "cell_type": "markdown",
   "id": "blind-samba",
   "metadata": {},
   "source": [
    "# Confusion Matrix Example: Diagnostic Tool\n",
    "![](images/confusion_matrix_example.png)\n"
   ]
  },
  {
   "cell_type": "code",
   "execution_count": 4,
   "id": "objective-russia",
   "metadata": {},
   "outputs": [],
   "source": [
    "# Text Feature Extraction\n",
    "# -----------------------\n",
    "\n",
    "# - Most classic ML algorithm can't take in raw text\n",
    "# - We need some kind of feature that allow us to take text and convert it in numerical information"
   ]
  },
  {
   "cell_type": "code",
   "execution_count": null,
   "id": "magnetic-auditor",
   "metadata": {},
   "outputs": [],
   "source": [
    "import numpy as np\n",
    "import pandas as pd\n",
    "\n",
    "from pathlib import Path\n",
    "from sklearn.model_selection import train_test_split\n",
    "from sklearn.feature_extraction.text import CountVectorizer\n",
    "from sklearn.feature_extraction.text import TfidfTransformer\n",
    "from sklearn.feature_extraction.text import TfidfVectorizer\n",
    "from sklearn.svm import LinearSVC\n",
    "from sklearn.pipeline import Pipeline"
   ]
  },
  {
   "cell_type": "code",
   "execution_count": null,
   "id": "different-politics",
   "metadata": {},
   "outputs": [],
   "source": [
    "current_path = str(Path('.').absolute())\n",
    "data_path = str(current_path) + '/data/smsspamcollection.tsv'\n",
    "df = pd.read_csv(data_path, sep='\\t')\n",
    "df.head()"
   ]
  },
  {
   "cell_type": "code",
   "execution_count": null,
   "id": "yellow-teach",
   "metadata": {},
   "outputs": [],
   "source": [
    "df.isnull().sum()"
   ]
  },
  {
   "cell_type": "code",
   "execution_count": null,
   "id": "central-photography",
   "metadata": {},
   "outputs": [],
   "source": [
    "df['label'].value_counts()"
   ]
  },
  {
   "cell_type": "code",
   "execution_count": null,
   "id": "quality-tourism",
   "metadata": {},
   "outputs": [],
   "source": [
    "# Let's vectorize the message attribute\n",
    "X = df['message']\n",
    "y = df['label']\n",
    "\n",
    "X_train, X_test, y_train, y_test = train_test_split(X,y, test_size=0.3, random_state=42)\n",
    "# Perform Count Vectorization\n",
    "count_vect = CountVectorizer()\n",
    "\n",
    "# What steps do we need to do with the CountVectorizer?\n",
    "count_vect.fit(X_train) # -> building the vocabulary, counting the number of words\n",
    "X_train_counts = count_vect.transform(X_train) # -> Do the text to numeric transformation\n",
    "\n",
    "# X_train_counts = count_vect.fit_transform(X_train)"
   ]
  },
  {
   "cell_type": "code",
   "execution_count": null,
   "id": "younger-yahoo",
   "metadata": {},
   "outputs": [],
   "source": [
    "print(X_train_counts.shape)\n",
    "print(X_train.shape)"
   ]
  },
  {
   "cell_type": "code",
   "execution_count": null,
   "id": "recorded-reading",
   "metadata": {},
   "outputs": [],
   "source": [
    "# Things to be aware of\n",
    "# - Not all words are very important\n",
    "# - A bunch of word does not \"weight\" the same as others\n",
    "# - TD-IDF give us information about which words are mort importants than others\n",
    "\n",
    "from sklearn.feature_extraction.text import TfidfTransformer\n",
    "\n",
    "tdidf_transf = TfidfTransformer()\n",
    "X_train_tfidf = tdidf_transf.fit_transform(X_train_counts)\n",
    "X_train_tfidf.shape\n",
    "\n",
    "# from sklearn.feature_extraction.text import TfidfVectorizer\n",
    "# vect = TfidfVectorizer()\n",
    "# X_train_tfidf = vect.fit_transform(X_train)"
   ]
  },
  {
   "cell_type": "code",
   "execution_count": null,
   "id": "lightweight-cosmetic",
   "metadata": {},
   "outputs": [],
   "source": [
    "# Training a Classifier\n",
    "\n",
    "from sklearn.svm import LinearSVC\n",
    "\n",
    "clf = LinearSVC()\n",
    "clf.fit(X_train_tfidf, y_train)"
   ]
  },
  {
   "cell_type": "code",
   "execution_count": null,
   "id": "stylish-stranger",
   "metadata": {},
   "outputs": [],
   "source": [
    "# sklearn Pipeline object to reduce reptitive process\n",
    "from sklearn.pipeline import Pipeline\n",
    "from sklearn.feature_extraction.text import TfidfVectorizer\n",
    "\n",
    "# With the pipeline object we will perform TF-IDF, then Classification in a single step\n",
    "text_clf = Pipeline([\n",
    "    ('tfidf', TfidfVectorizer()),\n",
    "    ('clf', LinearSVC())\n",
    "])\n",
    "text_clf.fit(X_train, y_train)"
   ]
  },
  {
   "cell_type": "code",
   "execution_count": null,
   "id": "civil-affair",
   "metadata": {},
   "outputs": [],
   "source": [
    "predictions = text_clf.predict(X_test)"
   ]
  },
  {
   "cell_type": "code",
   "execution_count": null,
   "id": "inappropriate-poverty",
   "metadata": {},
   "outputs": [],
   "source": [
    "print(confusion_matrix(y_test, predictions))\n",
    "print(classification_report(y_test, predictions))\n",
    "print(accuracy_score(y_test, predictions))"
   ]
  },
  {
   "cell_type": "code",
   "execution_count": null,
   "id": "grand-initial",
   "metadata": {},
   "outputs": [],
   "source": [
    "text_clf.predict(['Heyyyy how areee you? I just wanna get in touch with you for playing a song.'])\n",
    "text_clf.predict(['Congratulations! You have been selected as a winner. Please click in the following link and send a text message to 2452435 number'])"
   ]
  }
 ],
 "metadata": {
  "kernelspec": {
   "display_name": "Python 3",
   "language": "python",
   "name": "python3"
  },
  "language_info": {
   "codemirror_mode": {
    "name": "ipython",
    "version": 3
   },
   "file_extension": ".py",
   "mimetype": "text/x-python",
   "name": "python",
   "nbconvert_exporter": "python",
   "pygments_lexer": "ipython3",
   "version": "3.7.10"
  }
 },
 "nbformat": 4,
 "nbformat_minor": 5
}
