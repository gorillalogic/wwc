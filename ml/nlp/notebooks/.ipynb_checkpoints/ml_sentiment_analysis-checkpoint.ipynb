{
 "cells": [
  {
   "cell_type": "code",
   "execution_count": 1,
   "id": "cubic-washington",
   "metadata": {},
   "outputs": [],
   "source": [
    "# Semantics & Word Vectors\n",
    "\n",
    "# word2vec -> package\n",
    "# Goals:\n",
    "# - Allow us to get vector from text\n",
    "# - Detect similarities mathematically\n",
    "# Definition: is a two-layert neural net that processes text\n",
    "\n",
    "# Giving enough data, usage and contexts, word2vec can make \n",
    "#  highly accurate guesses about a word's meaning based on past appearances.\n",
    "\n",
    "# Note: Think that each word is now represented by a vector (a list of numerical elements)\n",
    "# Note: In spacy each of these vectors has 300 dimensions"
   ]
  },
  {
   "cell_type": "code",
   "execution_count": 1,
   "id": "green-bobby",
   "metadata": {},
   "outputs": [],
   "source": [
    "import spacy\n",
    "\n",
    "nlp = spacy.load('en_core_web_lg')"
   ]
  },
  {
   "cell_type": "code",
   "execution_count": 3,
   "id": "different-halloween",
   "metadata": {},
   "outputs": [],
   "source": [
    "text = \"lion cat pet\"\n",
    "doc = nlp(text)"
   ]
  },
  {
   "cell_type": "code",
   "execution_count": 6,
   "id": "94af5b91",
   "metadata": {},
   "outputs": [
    {
     "data": {
      "text/plain": [
       "(300,)"
      ]
     },
     "execution_count": 6,
     "metadata": {},
     "output_type": "execute_result"
    }
   ],
   "source": [
    "doc.vector.shape"
   ]
  },
  {
   "cell_type": "code",
   "execution_count": 4,
   "id": "cae57ba3",
   "metadata": {},
   "outputs": [
    {
     "name": "stdout",
     "output_type": "stream",
     "text": [
      "lion lion 1.0\n",
      "lion cat 0.5265437\n",
      "lion pet 0.39923772\n",
      "cat lion 0.5265437\n",
      "cat cat 1.0\n",
      "cat pet 0.7505456\n",
      "pet lion 0.39923772\n",
      "pet cat 0.7505456\n",
      "pet pet 1.0\n"
     ]
    }
   ],
   "source": [
    "for tk in doc:\n",
    "    for tk2 in doc:\n",
    "        print(tk.text, tk2.text, tk.similarity(tk2))"
   ]
  },
  {
   "cell_type": "code",
   "execution_count": 7,
   "id": "85e6d6b8",
   "metadata": {},
   "outputs": [
    {
     "name": "stdout",
     "output_type": "stream",
     "text": [
      "684831\n",
      "(684831, 300)\n"
     ]
    }
   ],
   "source": [
    "# words in similar context tend to be similar in the similarity score.\n",
    "print(len(nlp.vocab.vectors))\n",
    "print(nlp.vocab.vectors.shape)"
   ]
  },
  {
   "cell_type": "code",
   "execution_count": 8,
   "id": "f6453d8a",
   "metadata": {},
   "outputs": [
    {
     "name": "stdout",
     "output_type": "stream",
     "text": [
      "dog True 7.0336733 False\n",
      "cat True 6.6808186 False\n",
      "nargle False 0.0 True\n"
     ]
    }
   ],
   "source": [
    "tks = nlp(\"dog cat nargle\")\n",
    "for tk in tks:\n",
    "    print(tk.text, tk.has_vector, tk.vector_norm, tk.is_oov)"
   ]
  },
  {
   "cell_type": "code",
   "execution_count": 11,
   "id": "c2fee7aa",
   "metadata": {},
   "outputs": [
    {
     "name": "stdout",
     "output_type": "stream",
     "text": [
      "0.7880843877792358\n"
     ]
    }
   ],
   "source": [
    "# Doing Arithmetic with vectors\n",
    "from scipy import spatial\n",
    "\n",
    "# Building the function\n",
    "cosine_similarity = lambda vec1, vec2: 1 - spatial.distance.cosine(vec1, vec2)\n",
    "\n",
    "king = nlp.vocab['king'].vector\n",
    "man = nlp.vocab['man'].vector\n",
    "woman = nlp.vocab['woman'].vector\n",
    "queen = nlp.vocab['queen'].vector\n",
    "\n",
    "new_vector = king - man + woman\n",
    "print(cosine_similarity(new_vector, queen))"
   ]
  },
  {
   "cell_type": "code",
   "execution_count": null,
   "id": "expressed-mission",
   "metadata": {},
   "outputs": [],
   "source": [
    "# Sentiment Analysis\n",
    "# We explored text clasification and we used it to predict sentiment\n",
    "#  labels on pre-labeled movie reviews. But what if we don't already have those labels?\n",
    "\n",
    "# Are there methods of attempting to discern sentiment on raw unlabeled text?\n",
    "\n",
    "# VADER (Valence Aware Dictionary for sEntiment Reasoning) is a model used for \n",
    "# text sentiment analysis that is sensitive to both polatiry (positive/negative)\n",
    "# and intensity (strength) of emotion.\n",
    "#  How does it work?\n",
    "#  - It basically takes the sentiment score (positive or negative) for each word, and at the end we take\n",
    "#     all the words to sum them up.\n",
    "#  - VADER also understand context of the sentence\n",
    "#  - Understand upper and lower case text\n",
    "\n",
    "\n",
    "# Sentiment on raw text is always challenging due to a variety of possible factors:\n",
    "# - Positive and Negative sentiment in the same text data\n",
    "# - Sarcasm using positive words in a negative way"
   ]
  },
  {
   "cell_type": "code",
   "execution_count": 12,
   "id": "dcee2845",
   "metadata": {},
   "outputs": [
    {
     "name": "stdout",
     "output_type": "stream",
     "text": [
      "[nltk_data] Downloading package vader_lexicon to /root/nltk_data...\n"
     ]
    },
    {
     "data": {
      "text/plain": [
       "True"
      ]
     },
     "execution_count": 12,
     "metadata": {},
     "output_type": "execute_result"
    }
   ],
   "source": [
    "import nltk\n",
    "\n",
    "nltk.download('vader_lexicon')"
   ]
  },
  {
   "cell_type": "code",
   "execution_count": 19,
   "id": "df2d9ccb",
   "metadata": {},
   "outputs": [],
   "source": [
    "from pathlib import Path\n",
    "import pandas as pd\n",
    "\n",
    "from nltk.sentiment.vader import SentimentIntensityAnalyzer"
   ]
  },
  {
   "cell_type": "code",
   "execution_count": 15,
   "id": "2641e1b7",
   "metadata": {},
   "outputs": [],
   "source": [
    "sid = SentimentIntensityAnalyzer()\n",
    "\n",
    "mystring = \"This is a good movie\"\n",
    "mystring2 = \"This was the best, most awesome movie EVER MADE!!\"\n",
    "mystring3 = \"This was the WORST that has ever disgraced the screen\""
   ]
  },
  {
   "cell_type": "code",
   "execution_count": 16,
   "id": "af7265b6",
   "metadata": {},
   "outputs": [
    {
     "name": "stdout",
     "output_type": "stream",
     "text": [
      "{'neg': 0.0, 'neu': 0.508, 'pos': 0.492, 'compound': 0.4404}\n",
      "{'neg': 0.0, 'neu': 0.433, 'pos': 0.567, 'compound': 0.88}\n",
      "{'neg': 0.495, 'neu': 0.505, 'pos': 0.0, 'compound': -0.8331}\n"
     ]
    }
   ],
   "source": [
    "# sid.polarity_scores(str) -> Gives neg, neu, pos, and compound scores\n",
    "print(sid.polarity_scores(mystring))\n",
    "print(sid.polarity_scores(mystring2))\n",
    "print(sid.polarity_scores(mystring3))"
   ]
  },
  {
   "cell_type": "code",
   "execution_count": 24,
   "id": "3da31451",
   "metadata": {},
   "outputs": [
    {
     "data": {
      "text/html": [
       "<div>\n",
       "<style scoped>\n",
       "    .dataframe tbody tr th:only-of-type {\n",
       "        vertical-align: middle;\n",
       "    }\n",
       "\n",
       "    .dataframe tbody tr th {\n",
       "        vertical-align: top;\n",
       "    }\n",
       "\n",
       "    .dataframe thead th {\n",
       "        text-align: right;\n",
       "    }\n",
       "</style>\n",
       "<table border=\"1\" class=\"dataframe\">\n",
       "  <thead>\n",
       "    <tr style=\"text-align: right;\">\n",
       "      <th></th>\n",
       "      <th>label</th>\n",
       "      <th>review</th>\n",
       "    </tr>\n",
       "  </thead>\n",
       "  <tbody>\n",
       "    <tr>\n",
       "      <th>0</th>\n",
       "      <td>pos</td>\n",
       "      <td>Stuning even for the non-gamer: This sound tra...</td>\n",
       "    </tr>\n",
       "    <tr>\n",
       "      <th>1</th>\n",
       "      <td>pos</td>\n",
       "      <td>The best soundtrack ever to anything.: I'm rea...</td>\n",
       "    </tr>\n",
       "    <tr>\n",
       "      <th>2</th>\n",
       "      <td>pos</td>\n",
       "      <td>Amazing!: This soundtrack is my favorite music...</td>\n",
       "    </tr>\n",
       "    <tr>\n",
       "      <th>3</th>\n",
       "      <td>pos</td>\n",
       "      <td>Excellent Soundtrack: I truly like this soundt...</td>\n",
       "    </tr>\n",
       "    <tr>\n",
       "      <th>4</th>\n",
       "      <td>pos</td>\n",
       "      <td>Remember, Pull Your Jaw Off The Floor After He...</td>\n",
       "    </tr>\n",
       "  </tbody>\n",
       "</table>\n",
       "</div>"
      ],
      "text/plain": [
       "  label                                             review\n",
       "0   pos  Stuning even for the non-gamer: This sound tra...\n",
       "1   pos  The best soundtrack ever to anything.: I'm rea...\n",
       "2   pos  Amazing!: This soundtrack is my favorite music...\n",
       "3   pos  Excellent Soundtrack: I truly like this soundt...\n",
       "4   pos  Remember, Pull Your Jaw Off The Floor After He..."
      ]
     },
     "execution_count": 24,
     "metadata": {},
     "output_type": "execute_result"
    }
   ],
   "source": [
    "current_path = str(Path('.').absolute())\n",
    "data_path = str(current_path) + '/data/amazonreviews.tsv'\n",
    "df = pd.read_csv(data_path, sep='\\t')\n",
    "df.head()"
   ]
  },
  {
   "cell_type": "code",
   "execution_count": 25,
   "id": "269b6ce9",
   "metadata": {},
   "outputs": [],
   "source": [
    "# Cleaning data\n",
    "df.dropna(inplace=True)"
   ]
  },
  {
   "cell_type": "code",
   "execution_count": 26,
   "id": "9ef086ec",
   "metadata": {},
   "outputs": [],
   "source": [
    "# Get blanks records\n",
    "blanks = []\n",
    "for i, lb, rv in df.itertuples():\n",
    "    # (index, label, review)\n",
    "    if type(rv) == str:\n",
    "        if rv.isspace():\n",
    "            blanks.append(i)"
   ]
  },
  {
   "cell_type": "code",
   "execution_count": 27,
   "id": "e302e02a",
   "metadata": {},
   "outputs": [
    {
     "data": {
      "text/plain": [
       "[]"
      ]
     },
     "execution_count": 27,
     "metadata": {},
     "output_type": "execute_result"
    }
   ],
   "source": [
    "# if blanks\n",
    "# df.drop(blanks, inplace=True)"
   ]
  },
  {
   "cell_type": "code",
   "execution_count": 29,
   "id": "8db85542",
   "metadata": {},
   "outputs": [
    {
     "name": "stdout",
     "output_type": "stream",
     "text": [
      "Stuning even for the non-gamer: This sound track was beautiful! It paints the senery in your mind so well I would recomend it even to people who hate vid. game music! I have played the game Chrono Cross but out of all of the games I have ever played it has the best music! It backs away from crude keyboarding and takes a fresher step with grate guitars and soulful orchestras. It would impress anyone who cares to listen! ^_^\n",
      "{'neg': 0.088, 'neu': 0.669, 'pos': 0.243, 'compound': 0.9454}\n"
     ]
    }
   ],
   "source": [
    "# df.iloc[0] -> ACCESING FIRST ROW\n",
    "# print(df.iloc[0]['review'])\n",
    "print(sid.polarity_scores(df.iloc[0]['review']))"
   ]
  }
 ],
 "metadata": {
  "kernelspec": {
   "display_name": "Python 3",
   "language": "python",
   "name": "python3"
  },
  "language_info": {
   "codemirror_mode": {
    "name": "ipython",
    "version": 3
   },
   "file_extension": ".py",
   "mimetype": "text/x-python",
   "name": "python",
   "nbconvert_exporter": "python",
   "pygments_lexer": "ipython3",
   "version": "3.7.10"
  }
 },
 "nbformat": 4,
 "nbformat_minor": 5
}
