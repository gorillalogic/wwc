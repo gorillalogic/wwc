{
 "cells": [
  {
   "cell_type": "code",
   "execution_count": null,
   "id": "lesser-project",
   "metadata": {},
   "outputs": [],
   "source": [
    "# Stop Words\n",
    "# ----------\n",
    "# - Words like 'a' and 'the' appear so frequently that they do don't require tagging as throughly as nouns, verbs and modifiers.\n",
    "# - Stop words can be filtered from the text to be processed, because\n",
    "#   they usually don't give you any additional information. You can \n",
    "#   add a stop word phase in a NLP pipeline if required"
   ]
  },
  {
   "cell_type": "code",
   "execution_count": 1,
   "id": "creative-highlight",
   "metadata": {},
   "outputs": [
    {
     "name": "stdout",
     "output_type": "stream",
     "text": [
      "{'one', 'almost', 'therefore', 'part', 'in', 'sixty', 'whereby', 'various', 'whence', 'otherwise', 'used', 'becoming', 'may', 'thereafter', 'there', 'not', 'throughout', 'behind', 'full', 'somehow', 'others', 'hereupon', 'name', 'when', 'either', 'they', 'seeming', 'over', 'on', 'forty', 'toward', 'through', 'more', 'yet', 'amongst', 'be', 'twelve', 'of', 'done', 'elsewhere', 'other', 'towards', 'its', 'third', 'afterwards', 'becomes', 'being', 'is', 'make', 'mine', 'quite', 'therein', 'hers', 'least', 'would', 'five', 'themselves', 'due', 'with', 'you', 'it', 'because', 'noone', 'under', 'eight', 'bottom', 'top', 'up', 'wherein', 'while', 'her', 'back', 'sometime', 'us', 'and', 'everywhere', 'even', 'same', 'unless', 'except', 'get', 'whether', 'where', 'among', 'meanwhile', 'our', 'wherever', 'nevertheless', 'or', 'ca', 'could', 'less', 'none', 'however', 'everything', 'around', 'former', 'moreover', 'fifty', 'another', 'besides', 'give', 'hereby', 'thereby', 'move', 'thence', 'somewhere', 'within', 'am', 'only', 'show', 'their', 'nor', 'together', 'yourself', 'else', 'using', 'beside', 'everyone', 'such', 'himself', 'often', 'never', 'as', 'latter', 'must', 'now', 'these', 'very', 'eleven', 'fifteen', 'every', 'made', 'hence', 'which', 'empty', 'down', 'this', 'about', 'have', 'whoever', 'from', 'regarding', 'sometimes', 'at', 'until', 'seems', 'after', 'indeed', 'nowhere', 'most', 'anyway', 'please', 'ourselves', 'put', 'was', 'just', 'she', 'anyhow', 'first', 'i', 'go', 'below', 'did', 'without', 'ours', 'the', 'ever', 'whom', 'me', 'amount', 'anywhere', 'out', 'ten', 'if', 'always', 'become', 'own', 'each', 'anything', 'enough', 'formerly', 'per', 'some', 'three', 'were', 'how', 'although', 'itself', 'might', 'seem', 'across', 'serious', 'that', 'next', 'against', 'seemed', 'front', 'six', 'can', 'latterly', 'call', 'myself', 'herein', 'him', 'no', 'see', 'those', 'last', 'to', 'an', 'doing', 'had', 'so', 'beyond', 'perhaps', 'neither', 'whatever', 'rather', 'upon', 'really', 'your', 'along', 'for', 'but', 'by', 'four', 'has', 'take', 'hereafter', 'beforehand', 'nobody', 'side', 'whereas', 'a', 'we', 'are', 'something', 'already', 'whither', 'who', 'two', 'nine', 'what', 'during', 'whereafter', 'whereupon', 'any', 'someone', 'both', 'into', 'before', 'alone', 'also', 'few', 'further', 'hundred', 'keep', 'namely', 'well', 'mostly', 'been', 'here', 'above', 'much', 'herself', 'say', 'thereupon', 'should', 'anyone', 'onto', 'too', 'off', 'once', 'whenever', 'he', 'his', 'nothing', 'will', 'yourselves', 'my', 'via', 'all', 'several', 'then', 'whole', 'though', 'still', 'twenty', 'them', 'since', 'than', 'does', 'became', 'many', 're', 'do', 'why', 'whose', 'between', 'thus', 'yours', 'cannot', 'thru', 'again'}\n"
     ]
    }
   ],
   "source": [
    "import spacy\n",
    "\n",
    "\n",
    "# Showing default stopwords\n",
    "nlp = spacy.load('en_core_web_sm')\n",
    "print(nlp.Defaults.stop_words)"
   ]
  },
  {
   "cell_type": "code",
   "execution_count": 7,
   "id": "raising-throw",
   "metadata": {},
   "outputs": [
    {
     "name": "stdout",
     "output_type": "stream",
     "text": [
      "True\n",
      "False\n"
     ]
    }
   ],
   "source": [
    "# Check if word is stop word\n",
    "print(nlp.vocab['is'].is_stop)\n",
    "print(nlp.vocab['chest'].is_stop)"
   ]
  },
  {
   "cell_type": "code",
   "execution_count": 9,
   "id": "disabled-birthday",
   "metadata": {},
   "outputs": [
    {
     "name": "stdout",
     "output_type": "stream",
     "text": [
      "True\n"
     ]
    }
   ],
   "source": [
    "# Adding Stopwords\n",
    "new_stop_word = 'btw'\n",
    "nlp.Defaults.stop_words.add(new_stop_word)\n",
    "nlp.vocab[new_stop_word].is_stop = True\n",
    "print(new_stop_word in nlp.Defaults.stop_words)"
   ]
  },
  {
   "cell_type": "code",
   "execution_count": 10,
   "id": "lesser-relevance",
   "metadata": {},
   "outputs": [
    {
     "name": "stdout",
     "output_type": "stream",
     "text": [
      "False\n"
     ]
    }
   ],
   "source": [
    "# Removing Stopwords\n",
    "nlp.Defaults.stop_words.remove(new_stop_word)\n",
    "print(new_stop_word in nlp.Defaults.stop_words)"
   ]
  }
 ],
 "metadata": {
  "kernelspec": {
   "display_name": "Python 3",
   "language": "python",
   "name": "python3"
  },
  "language_info": {
   "codemirror_mode": {
    "name": "ipython",
    "version": 3
   },
   "file_extension": ".py",
   "mimetype": "text/x-python",
   "name": "python",
   "nbconvert_exporter": "python",
   "pygments_lexer": "ipython3",
   "version": "3.7.10"
  }
 },
 "nbformat": 4,
 "nbformat_minor": 5
}
