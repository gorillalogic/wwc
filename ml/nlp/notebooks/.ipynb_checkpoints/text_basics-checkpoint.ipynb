{
 "cells": [
  {
   "cell_type": "code",
   "execution_count": null,
   "id": "instrumental-texas",
   "metadata": {},
   "outputs": [],
   "source": [
    "# Text Python Basics - Strings\n",
    "#  A string is an inmutable object which can be composed of one or more characters\n",
    "#  organized in sequence like digits, letters and/or symbols.\n",
    "\n",
    "# Why caring about Strings?\n",
    "#  It is a data structure we use everyday and in every project. Knowing how to work properly with strings\n",
    "#  will give you strong confidence in every project you work on."
   ]
  },
  {
   "cell_type": "code",
   "execution_count": null,
   "id": "spanish-preliminary",
   "metadata": {},
   "outputs": [],
   "source": [
    "# Strings can be made up of single quotes ('') or whit double quotes (\"\")\n",
    "a = 'This is a string with single quotes'\n",
    "b = \"This is a string with double quotes\"\n",
    "c = \"\"\"This is a docstring\"\"\"\n",
    "\n",
    "# When to use Single vs Double Quotes?\n",
    "# Use single quotes for:\n",
    "#    - One-word strings. Example: 'english', 'spanish', 'banana'\n",
    "#    - Accesing elements in dictionaries. Example: my_dict['attr'], my_dict.get('attr')\n",
    "\n",
    "# Use Double quotes for:\n",
    "#    - Multi-word strings. Example: \"Hey John\", \"This is a sentence with a lot of words\"\n",
    "#    - String Interpolation. Example: \"Hey {user}, how are you?\".format(user='Juan')\n",
    "\n",
    "# Use triple quotes for:\n",
    "#    - Docstrings\n",
    "#    - Function descriptions"
   ]
  },
  {
   "cell_type": "code",
   "execution_count": null,
   "id": "fleet-reply",
   "metadata": {},
   "outputs": [],
   "source": [
    "# String Concatenation\n",
    "print(\"Shark\" + \"Tank\")"
   ]
  },
  {
   "cell_type": "code",
   "execution_count": null,
   "id": "historic-department",
   "metadata": {},
   "outputs": [],
   "source": [
    "print(\"Shark\" + 2)"
   ]
  },
  {
   "cell_type": "code",
   "execution_count": null,
   "id": "comparable-interstate",
   "metadata": {},
   "outputs": [],
   "source": [
    "# String Replication\n",
    "print(\"Gol \"*5)"
   ]
  },
  {
   "cell_type": "code",
   "execution_count": null,
   "id": "japanese-harvest",
   "metadata": {},
   "outputs": [],
   "source": [
    "# String Literal vs String Value\n",
    "\"this is a string literal\"\n",
    "print(\"But this is a string value\")"
   ]
  },
  {
   "cell_type": "code",
   "execution_count": null,
   "id": "endangered-keeping",
   "metadata": {},
   "outputs": [],
   "source": [
    "# Formatting Strings\n",
    "print(\"He's doing some exercise\")\n",
    "print(\"\"\"\n",
    "This string with\n",
    "breaklines and could be\n",
    "greater than this example\n",
    "\"\"\")\n",
    "print('We can also use \\n to make a breakline or a \\t to indicate a tab. We can also\\n\\\"Escape\\\" characters')"
   ]
  },
  {
   "cell_type": "code",
   "execution_count": null,
   "id": "cooked-coverage",
   "metadata": {},
   "outputs": [],
   "source": [
    "# Strinf Functions"
   ]
  },
  {
   "cell_type": "code",
   "execution_count": 14,
   "id": "durable-praise",
   "metadata": {},
   "outputs": [
    {
     "name": "stdout",
     "output_type": "stream",
     "text": [
      "avenger upper: TONYSTARK\n",
      "avenger lower: tonystark\n",
      "avenger startswith ton: False\n",
      "avenger isnumeric ?: False\n",
      "avenger isalpha ?: True\n"
     ]
    }
   ],
   "source": [
    "avenger = \"TONY Stark\"\n",
    "print(f\"avenger upper: {avenger.upper()}\")\n",
    "print(f\"avenger lower: {avenger.lower()}\")\n",
    "print(f\"avenger startswith ton: {avenger.startswith('ton')}\")\n",
    "print(f\"avenger isnumeric ?: {avenger.isnumeric()}\")\n",
    "print(f\"avenger isalpha ?: {avenger.isalpha()}\")"
   ]
  },
  {
   "cell_type": "code",
   "execution_count": 17,
   "id": "brazilian-weather",
   "metadata": {},
   "outputs": [
    {
     "name": "stdout",
     "output_type": "stream",
     "text": [
      "I wanna order a pizza\n",
      "I,wanna,order,a,pizza\n",
      "I--wanna--order--a--pizza\n"
     ]
    }
   ],
   "source": [
    "# Strinf Functions: join, split, strip, replace\n",
    "print(\" \".join(['I', 'wanna', 'order', 'a', 'pizza']))\n",
    "print(\",\".join(['I', 'wanna', 'order', 'a', 'pizza']))\n",
    "print(\"--\".join(['I', 'wanna', 'order', 'a', 'pizza']))"
   ]
  },
  {
   "cell_type": "code",
   "execution_count": 21,
   "id": "different-techno",
   "metadata": {},
   "outputs": [
    {
     "name": "stdout",
     "output_type": "stream",
     "text": [
      "['I', 'want', 'to', 'order', 'a', 'pizza']\n",
      "['I-want-to-order-a-pizza']\n",
      "['I', 'want', 'to', 'order', 'a', 'pizza']\n",
      "['I-w', 'nt-to-order-', '-pizz', '']\n"
     ]
    }
   ],
   "source": [
    "print('I want to order a pizza'.split())\n",
    "print('I-want-to-order-a-pizza'.split())\n",
    "print('I-want-to-order-a-pizza'.split('-'))\n",
    "print('I-want-to-order-a-pizza'.split('a'))"
   ]
  },
  {
   "cell_type": "code",
   "execution_count": 22,
   "id": "identified-developer",
   "metadata": {},
   "outputs": [
    {
     "name": "stdout",
     "output_type": "stream",
     "text": [
      "I wanted to order a pizza\n"
     ]
    }
   ],
   "source": [
    "print('I want to order a pizza'.replace('want', 'wanted'))"
   ]
  },
  {
   "cell_type": "code",
   "execution_count": null,
   "id": "cosmetic-superintendent",
   "metadata": {},
   "outputs": [],
   "source": [
    "# String Indexing & Slicing "
   ]
  },
  {
   "cell_type": "code",
   "execution_count": null,
   "id": "spoken-escape",
   "metadata": {},
   "outputs": [],
   "source": []
  }
 ],
 "metadata": {
  "kernelspec": {
   "display_name": "Python 3",
   "language": "python",
   "name": "python3"
  },
  "language_info": {
   "codemirror_mode": {
    "name": "ipython",
    "version": 3
   },
   "file_extension": ".py",
   "mimetype": "text/x-python",
   "name": "python",
   "nbconvert_exporter": "python",
   "pygments_lexer": "ipython3",
   "version": "3.7.10"
  }
 },
 "nbformat": 4,
 "nbformat_minor": 5
}
