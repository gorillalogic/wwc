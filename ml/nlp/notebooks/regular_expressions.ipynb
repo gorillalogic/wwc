{
 "cells": [
  {
   "cell_type": "code",
   "execution_count": null,
   "id": "cheap-backup",
   "metadata": {},
   "outputs": [],
   "source": [
    "# Regular expressions or regex\n",
    "# References: \n",
    "#   -  https://www.rexegg.com/regex-quickstart.html\n",
    "#   - https://medium.com/factory-mind/regex-tutorial-a-simple-cheatsheet-by-examples-649dc1c3f285\n",
    "\n",
    "#   We use regex to search for patterns in a string (imagine the string is huge)\n",
    "#   Every character type has a corresponding pattern code\n",
    "#     Examples:\n",
    "#       - digitos: \\d (the backslash allow the code to understand it's a special code and not the letter \"d\")"
   ]
  },
  {
   "cell_type": "code",
   "execution_count": 3,
   "id": "demonstrated-excuse",
   "metadata": {},
   "outputs": [],
   "source": [
    "text = \"My phone number is 311-313-2543\""
   ]
  },
  {
   "cell_type": "code",
   "execution_count": 4,
   "id": "front-wellington",
   "metadata": {},
   "outputs": [],
   "source": [
    "import re\n",
    "\n",
    "\n",
    "# re.search(pattern, text) -> Return a regex object, the fisrt match. \n",
    "# rex_obj.span() -> Will return a tuple with the start and end of the match\n",
    "# rex_obj.start() -> Will return an integer referring the start of the match\n",
    "# rex_obj.end() -> Will return an integer referring the end of the match\n",
    "dummy_pattern = \"number\"\n",
    "number_match = re.search(dummy_pattern, text)"
   ]
  },
  {
   "cell_type": "code",
   "execution_count": 5,
   "id": "legitimate-multiple",
   "metadata": {},
   "outputs": [
    {
     "data": {
      "text/plain": [
       "<re.Match object; span=(9, 15), match='number'>"
      ]
     },
     "execution_count": 5,
     "metadata": {},
     "output_type": "execute_result"
    }
   ],
   "source": [
    "number_match"
   ]
  },
  {
   "cell_type": "code",
   "execution_count": 6,
   "id": "induced-payday",
   "metadata": {},
   "outputs": [
    {
     "name": "stdout",
     "output_type": "stream",
     "text": [
      "(9, 15)\n",
      "<class 'tuple'>\n"
     ]
    }
   ],
   "source": [
    "print(number_match.span())\n",
    "print(type(number_match.span()))"
   ]
  },
  {
   "cell_type": "code",
   "execution_count": 7,
   "id": "vertical-investigator",
   "metadata": {},
   "outputs": [
    {
     "name": "stdout",
     "output_type": "stream",
     "text": [
      "number\n"
     ]
    }
   ],
   "source": [
    "start, end = number_match.span()\n",
    "print(text[start:end])"
   ]
  },
  {
   "cell_type": "code",
   "execution_count": null,
   "id": "moral-jumping",
   "metadata": {},
   "outputs": [],
   "source": [
    "# Multiple Matches"
   ]
  },
  {
   "cell_type": "code",
   "execution_count": 8,
   "id": "latter-tourism",
   "metadata": {},
   "outputs": [
    {
     "name": "stdout",
     "output_type": "stream",
     "text": [
      "['te', 'te', 'te', 'te', 'te']\n"
     ]
    }
   ],
   "source": [
    "text = \"No fue suficiente, que te amara hasta la muerte, te juré que el corazón te lo daría para siempre\"\n",
    "te_pattern = 'te'\n",
    "te_match = re.findall(te_pattern, text)\n",
    "print(te_match)"
   ]
  },
  {
   "cell_type": "code",
   "execution_count": 9,
   "id": "opening-branch",
   "metadata": {},
   "outputs": [
    {
     "name": "stdout",
     "output_type": "stream",
     "text": [
      "(15, 17)\n",
      "(23, 25)\n",
      "(45, 47)\n",
      "(49, 51)\n",
      "(72, 74)\n"
     ]
    }
   ],
   "source": [
    "# Multiple Matches - Returning regex objects\n",
    "for match in re.finditer(te_pattern, text):\n",
    "    print(match.span())"
   ]
  },
  {
   "cell_type": "code",
   "execution_count": null,
   "id": "returning-blame",
   "metadata": {},
   "outputs": [],
   "source": [
    "# Regular Expression Patterns\n",
    "# Examples:\n",
    "# 1. Searching for files with common names: logs_2021_01_01.txt, logs_2021_01_02.txt\n",
    "# 2. Searching for phone numbers: 311-313-2543"
   ]
  },
  {
   "cell_type": "code",
   "execution_count": 13,
   "id": "bibliographic-soccer",
   "metadata": {},
   "outputs": [],
   "source": [
    "agent_conversation_text = \"The number of Alicia is 311-313-2543, the number of Juan is 313-246-7887 and the number of Melanie is 317-345-9642\"\n",
    "phone_pattern_v1 = r'\\d\\d\\d-\\d\\d\\d-\\d\\d\\d\\d'\n",
    "phone_numbers = re.search(phone_pattern_v1, agent_conversation_text)\n",
    "s,e = phone_numbers.span()"
   ]
  },
  {
   "cell_type": "code",
   "execution_count": 14,
   "id": "private-prerequisite",
   "metadata": {},
   "outputs": [
    {
     "data": {
      "text/plain": [
       "'311-313-2543'"
      ]
     },
     "execution_count": 14,
     "metadata": {},
     "output_type": "execute_result"
    }
   ],
   "source": [
    "agent_conversation_text[s:e]"
   ]
  },
  {
   "cell_type": "code",
   "execution_count": 17,
   "id": "adolescent-following",
   "metadata": {},
   "outputs": [
    {
     "name": "stdout",
     "output_type": "stream",
     "text": [
      "Match(start=24, end=36) found: 311-313-2543\n",
      "Match(start=60, end=72) found: 313-246-7887\n",
      "Match(start=102, end=114) found: 317-345-9642\n"
     ]
    }
   ],
   "source": [
    "phone_numberss = re.findall(phone_pattern_v1, agent_conversation_text)\n",
    "for match in re.finditer(phone_pattern_v1, agent_conversation_text):\n",
    "    s,e = match.span()\n",
    "    print(f\"Match(start={s}, end={e}) found: {agent_conversation_text[s:e]}\")\n",
    "    "
   ]
  },
  {
   "cell_type": "code",
   "execution_count": 20,
   "id": "threatened-dressing",
   "metadata": {},
   "outputs": [
    {
     "name": "stdout",
     "output_type": "stream",
     "text": [
      "['311-313-2543', '313-246-7887', '317-345-9642']\n"
     ]
    }
   ],
   "source": [
    "# Regular Expression Quantifiers\n",
    "agent_conversation_text = \"The number of Alicia is 311-313-2543, the number of Juan is 313-246-7887 and the number of Melanie is 317-345-9642\"\n",
    "phone_pattern_v1 = r'\\d{3}-\\d{3}-\\d{4}'\n",
    "phone_numberss = re.findall(phone_pattern_v1, agent_conversation_text)\n",
    "print(phone_numberss)"
   ]
  },
  {
   "cell_type": "code",
   "execution_count": 21,
   "id": "satellite-strain",
   "metadata": {},
   "outputs": [],
   "source": [
    "# Regular Expression Groups\n",
    "# match.group()\n",
    "# match.group(i), where i=1,2,3,..., k\n",
    "phone_pattern_v1_gruped = r'(\\d{3})-(\\d{3})-(\\d{4})'\n",
    "phone_number = re.search(phone_pattern_v1_gruped, agent_conversation_text)"
   ]
  },
  {
   "cell_type": "code",
   "execution_count": 24,
   "id": "consecutive-imaging",
   "metadata": {},
   "outputs": [
    {
     "name": "stdout",
     "output_type": "stream",
     "text": [
      "311-313-2543\n",
      "311\n",
      "313\n",
      "2543\n"
     ]
    }
   ],
   "source": [
    "print(phone_number.group())\n",
    "print(phone_number.group(1))\n",
    "print(phone_number.group(2))\n",
    "print(phone_number.group(3))"
   ]
  },
  {
   "cell_type": "code",
   "execution_count": 26,
   "id": "phantom-difference",
   "metadata": {},
   "outputs": [
    {
     "ename": "IndexError",
     "evalue": "no such group",
     "output_type": "error",
     "traceback": [
      "\u001b[0;31m---------------------------------------------------------------------------\u001b[0m",
      "\u001b[0;31mIndexError\u001b[0m                                Traceback (most recent call last)",
      "\u001b[0;32m<ipython-input-26-24dcc57d305f>\u001b[0m in \u001b[0;36m<module>\u001b[0;34m\u001b[0m\n\u001b[0;32m----> 1\u001b[0;31m \u001b[0mphone_number\u001b[0m\u001b[0;34m.\u001b[0m\u001b[0mgroup\u001b[0m\u001b[0;34m(\u001b[0m\u001b[0;36m4\u001b[0m\u001b[0;34m)\u001b[0m\u001b[0;34m\u001b[0m\u001b[0;34m\u001b[0m\u001b[0m\n\u001b[0m",
      "\u001b[0;31mIndexError\u001b[0m: no such group"
     ]
    }
   ],
   "source": [
    "phone_number.group(4)"
   ]
  },
  {
   "cell_type": "code",
   "execution_count": 29,
   "id": "worse-administration",
   "metadata": {},
   "outputs": [
    {
     "name": "stdout",
     "output_type": "stream",
     "text": [
      "<re.Match object; span=(15, 19), match='moon'> (15, 19) moon\n"
     ]
    }
   ],
   "source": [
    "# Regular Expressions: Pipe (|)\n",
    "r1 = re.search(r\"moon|mon\", \"Talking to the moon\")\n",
    "print(r1, r1.span(), r1.group())"
   ]
  },
  {
   "cell_type": "code",
   "execution_count": 30,
   "id": "flexible-pakistan",
   "metadata": {},
   "outputs": [
    {
     "name": "stdout",
     "output_type": "stream",
     "text": [
      "['dad', 'did']\n"
     ]
    }
   ],
   "source": [
    "# Regular Expressions: Wildcard(.)\n",
    "r1 = re.findall(r\"d.d\", \"My dad did not make it\")\n",
    "print(r1)"
   ]
  },
  {
   "cell_type": "code",
   "execution_count": 32,
   "id": "liked-nashville",
   "metadata": {},
   "outputs": [
    {
     "data": {
      "text/plain": [
       "['there are ', ' numbers inside ', ' this sentence ']"
      ]
     },
     "execution_count": 32,
     "metadata": {},
     "output_type": "execute_result"
    }
   ],
   "source": [
    "# Regular Expressions: Removing numbers\n",
    "text = \"there are 4 numbers inside 45 this sentence 31243\"\n",
    "re.findall(r\"[^\\d]+\", text)"
   ]
  },
  {
   "cell_type": "code",
   "execution_count": 37,
   "id": "altered-posting",
   "metadata": {},
   "outputs": [
    {
     "name": "stdout",
     "output_type": "stream",
     "text": [
      "A sentence  Oh that's awesome  It should have some  punctuation i guess\n"
     ]
    }
   ],
   "source": [
    "# Regular Expressions: Removing punctuation\n",
    "text = \"A sentence! Oh that's awesome. It should have some, punctuation i guess.\"\n",
    "result = re.findall(r\"[^!.,]+\", text)\n",
    "phrase = ' '.join(result)\n",
    "print(phrase)"
   ]
  }
 ],
 "metadata": {
  "kernelspec": {
   "display_name": "Python 3",
   "language": "python",
   "name": "python3"
  },
  "language_info": {
   "codemirror_mode": {
    "name": "ipython",
    "version": 3
   },
   "file_extension": ".py",
   "mimetype": "text/x-python",
   "name": "python",
   "nbconvert_exporter": "python",
   "pygments_lexer": "ipython3",
   "version": "3.7.10"
  }
 },
 "nbformat": 4,
 "nbformat_minor": 5
}
