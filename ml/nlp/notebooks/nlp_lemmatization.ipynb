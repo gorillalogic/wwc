{
 "cells": [
  {
   "cell_type": "code",
   "execution_count": null,
   "id": "failing-revolution",
   "metadata": {},
   "outputs": [],
   "source": [
    "# Lemmatization\n",
    "\n",
    "# Definition: \n",
    "#   Lemmatization looks beyond word reduction, and considers a language's full vocabular\n",
    "#   to apply a morphological analysis to words\n",
    "# Goal: As well as stemming, it aims to reduce variations of words to its base.\n",
    "# Example: The lemma of 'was' is 'be'; the lemma of 'mice' is 'mouse'.\n",
    "\n",
    "# Lemmatization is typically seen as much more informative thn\n",
    "# simple stemming. It is also defined as a way of reducing down words\n",
    "# to their truth roots.\n",
    "\n",
    "# Resurces:\n",
    "# - Morphology (linguistics) on Wikipedia: https://en.wikipedia.org/wiki/Morphology_(linguistics)"
   ]
  },
  {
   "cell_type": "code",
   "execution_count": 1,
   "id": "increased-ottawa",
   "metadata": {},
   "outputs": [],
   "source": [
    "import spacy\n",
    "\n",
    "nlp = spacy.load('en_core_web_sm')"
   ]
  },
  {
   "cell_type": "code",
   "execution_count": 8,
   "id": "confident-berlin",
   "metadata": {},
   "outputs": [
    {
     "name": "stdout",
     "output_type": "stream",
     "text": [
      "I            PRON   561228191312463089     -PRON-\n",
      "am           VERB   10382539506755952630   be\n",
      "a            DET    11901859001352538922   a\n",
      "runner       NOUN   12640964157389618806   runner\n",
      "running      VERB   12767647472892411841   run\n",
      "in           ADP    3002984154512732771    in\n",
      "a            DET    11901859001352538922   a\n",
      "race         NOUN   8048469955494714898    race\n",
      "because      ADP    16950148841647037698   because\n",
      "i            PRON   5097672513440128799    i\n",
      "love         VERB   3702023516439754181    love\n",
      "to           PART   3791531372978436496    to\n",
      "run          VERB   12767647472892411841   run\n",
      "since        ADP    10066841407251338481   since\n",
      "i            PRON   5097672513440128799    i\n",
      "ran          VERB   12767647472892411841   run\n",
      "today        NOUN   11042482332948150395   today\n"
     ]
    }
   ],
   "source": [
    "doc1 = nlp(u\"I am a runner running in a race because i love to run since i ran today\")\n",
    "for tk1 in doc1:\n",
    "    print(f'{tk1.text:{12}} {tk1.pos_:{6}} {tk1.lemma:<{22}} {tk1.lemma_}')"
   ]
  },
  {
   "cell_type": "code",
   "execution_count": null,
   "id": "overhead-intersection",
   "metadata": {},
   "outputs": [],
   "source": []
  }
 ],
 "metadata": {
  "kernelspec": {
   "display_name": "Python 3",
   "language": "python",
   "name": "python3"
  },
  "language_info": {
   "codemirror_mode": {
    "name": "ipython",
    "version": 3
   },
   "file_extension": ".py",
   "mimetype": "text/x-python",
   "name": "python",
   "nbconvert_exporter": "python",
   "pygments_lexer": "ipython3",
   "version": "3.7.10"
  }
 },
 "nbformat": 4,
 "nbformat_minor": 5
}
