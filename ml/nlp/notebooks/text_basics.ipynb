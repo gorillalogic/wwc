{
 "cells": [
  {
   "cell_type": "code",
   "execution_count": null,
   "id": "needed-metabolism",
   "metadata": {},
   "outputs": [],
   "source": [
    "# Text Python Basics - Strings\n",
    "#  A string is an inmutable object which can be composed of one or more characters\n",
    "#  organized in sequence like digits, letters and/or symbols.\n",
    "\n",
    "# Why caring about Strings?\n",
    "#  It is a data structure we use everyday and in every project. Knowing how to work properly with strings\n",
    "#  will give you strong confidence in every project you work on."
   ]
  },
  {
   "cell_type": "code",
   "execution_count": null,
   "id": "military-navigator",
   "metadata": {},
   "outputs": [],
   "source": [
    "# Strings can be made up of single quotes ('') or whit double quotes (\"\")\n",
    "a = 'This is a string with single quotes'\n",
    "b = \"This is a string with double quotes\"\n",
    "c = \"\"\"This is a docstring\"\"\"\n",
    "\n",
    "# When to use Single vs Double Quotes?\n",
    "# Use single quotes for:\n",
    "#    - One-word strings. Example: 'english', 'spanish', 'banana'\n",
    "#    - Accesing elements in dictionaries. Example: my_dict['attr'], my_dict.get('attr')\n",
    "\n",
    "# Use Double quotes for:\n",
    "#    - Multi-word strings. Example: \"Hey John\", \"This is a sentence with a lot of words\"\n",
    "#    - String Interpolation. Example: \"Hey {user}, how are you?\".format(user='Juan')\n",
    "\n",
    "# Use triple quotes for:\n",
    "#    - Docstrings\n",
    "#    - Function descriptions"
   ]
  },
  {
   "cell_type": "code",
   "execution_count": null,
   "id": "indian-people",
   "metadata": {},
   "outputs": [],
   "source": [
    "# String Concatenation\n",
    "print(\"Shark\" + \"Tank\")"
   ]
  },
  {
   "cell_type": "code",
   "execution_count": null,
   "id": "green-report",
   "metadata": {},
   "outputs": [],
   "source": [
    "print(\"Shark\" + 2)"
   ]
  },
  {
   "cell_type": "code",
   "execution_count": null,
   "id": "unlike-decrease",
   "metadata": {},
   "outputs": [],
   "source": [
    "# String Replication\n",
    "print(\"Gol \"*5)"
   ]
  },
  {
   "cell_type": "code",
   "execution_count": null,
   "id": "romance-local",
   "metadata": {},
   "outputs": [],
   "source": [
    "# String Literal vs String Value\n",
    "\"this is a string literal\"\n",
    "print(\"But this is a string value\")"
   ]
  },
  {
   "cell_type": "code",
   "execution_count": null,
   "id": "finished-insert",
   "metadata": {},
   "outputs": [],
   "source": [
    "# Formatting Strings\n",
    "print(\"He's doing some exercise\")\n",
    "print(\"\"\"\n",
    "This string with\n",
    "breaklines and could be\n",
    "greater than this example\n",
    "\"\"\")\n",
    "print('We can also use \\n to make a breakline or a \\t to indicate a tab. We can also\\n\\\"Escape\\\" characters')"
   ]
  },
  {
   "cell_type": "code",
   "execution_count": null,
   "id": "plastic-walker",
   "metadata": {},
   "outputs": [],
   "source": [
    "# Strinf Functions"
   ]
  },
  {
   "cell_type": "code",
   "execution_count": null,
   "id": "pursuant-confidence",
   "metadata": {},
   "outputs": [],
   "source": [
    "avenger = \"TONY Stark\"\n",
    "print(f\"avenger upper: {avenger.upper()}\")\n",
    "print(f\"avenger lower: {avenger.lower()}\")\n",
    "print(f\"avenger startswith ton: {avenger.startswith('ton')}\")\n",
    "print(f\"avenger isnumeric ?: {avenger.isnumeric()}\")\n",
    "print(f\"avenger isalpha ?: {avenger.isalpha()}\")"
   ]
  },
  {
   "cell_type": "code",
   "execution_count": null,
   "id": "loose-surveillance",
   "metadata": {},
   "outputs": [],
   "source": [
    "# Strinf Functions: join, split, strip, replace\n",
    "print(\" \".join(['I', 'wanna', 'order', 'a', 'pizza']))\n",
    "print(\",\".join(['I', 'wanna', 'order', 'a', 'pizza']))\n",
    "print(\"--\".join(['I', 'wanna', 'order', 'a', 'pizza']))"
   ]
  },
  {
   "cell_type": "code",
   "execution_count": null,
   "id": "scenic-helena",
   "metadata": {},
   "outputs": [],
   "source": [
    "print('I want to order a pizza'.split())\n",
    "print('I-want-to-order-a-pizza'.split())\n",
    "print('I-want-to-order-a-pizza'.split('-'))\n",
    "print('I-want-to-order-a-pizza'.split('a'))"
   ]
  },
  {
   "cell_type": "code",
   "execution_count": null,
   "id": "thousand-pound",
   "metadata": {},
   "outputs": [],
   "source": [
    "print('I want to order a pizza'.replace('want', 'wanted'))"
   ]
  },
  {
   "cell_type": "code",
   "execution_count": null,
   "id": "mature-questionnaire",
   "metadata": {},
   "outputs": [],
   "source": [
    "# String Indexing & Slicing "
   ]
  },
  {
   "cell_type": "code",
   "execution_count": null,
   "id": "regular-shame",
   "metadata": {},
   "outputs": [],
   "source": [
    "var = \"WomenWhoCode\"\n",
    "print(var[0], var[1])\n",
    "print(var[0:-1])\n",
    "print(var[-1])"
   ]
  },
  {
   "cell_type": "code",
   "execution_count": null,
   "id": "danish-stack",
   "metadata": {},
   "outputs": [],
   "source": [
    "# If you want to know more string functions just type in the terminal the following\n",
    "dir(str) # This will list all attributes and methods that belong to a string variable\n",
    "help(str.find)"
   ]
  }
 ],
 "metadata": {
  "kernelspec": {
   "display_name": "Python 3",
   "language": "python",
   "name": "python3"
  },
  "language_info": {
   "codemirror_mode": {
    "name": "ipython",
    "version": 3
   },
   "file_extension": ".py",
   "mimetype": "text/x-python",
   "name": "python",
   "nbconvert_exporter": "python",
   "pygments_lexer": "ipython3",
   "version": "3.7.10"
  }
 },
 "nbformat": 4,
 "nbformat_minor": 5
}
