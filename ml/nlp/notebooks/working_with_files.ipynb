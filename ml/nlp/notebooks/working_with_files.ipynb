{
 "cells": [
  {
   "cell_type": "code",
   "execution_count": null,
   "id": "handy-distance",
   "metadata": {},
   "outputs": [],
   "source": [
    "# Working With Files \n",
    "# A reference: https://www.guru99.com/reading-and-writing-files-in-python.html"
   ]
  },
  {
   "cell_type": "code",
   "execution_count": null,
   "id": "spoken-giving",
   "metadata": {},
   "outputs": [],
   "source": [
    "def read_file(filepath):\n",
    "    with open(filepath, 'r') as f:\n",
    "        data = f.read()\n",
    "    return data"
   ]
  },
  {
   "cell_type": "code",
   "execution_count": 25,
   "id": "returning-boundary",
   "metadata": {},
   "outputs": [],
   "source": [
    "with open('some_name.txt', 'w') as f:\n",
    "    f.write(\"Whomen Who Code\")"
   ]
  },
  {
   "cell_type": "code",
   "execution_count": null,
   "id": "afraid-preliminary",
   "metadata": {},
   "outputs": [],
   "source": [
    "import os\n",
    "\n",
    "file_path = os.getcwd()\n",
    "print(file_path)"
   ]
  },
  {
   "cell_type": "code",
   "execution_count": null,
   "id": "green-japanese",
   "metadata": {},
   "outputs": [],
   "source": [
    "data2 = read_file(f'{file_path}/song.txt')"
   ]
  },
  {
   "cell_type": "code",
   "execution_count": null,
   "id": "behavioral-subscription",
   "metadata": {},
   "outputs": [],
   "source": [
    "# Ejercicios\n",
    "# 1. Contar cuantas veces se repite la palabra blanco en la cancion\n",
    "# 2. Contar cuantos saltos de línea tiene la letra de la canción\n",
    "# 3. Formatee el texto para que solo contenga palabras en minúsculas, \n",
    "#    luego, reemplace la palabra blanco por BLANCO\n",
    "# 4. Completar la siguiente funcion, identifique todas las palabras de la canción y retornelas en una lista sin duplicas:\n",
    "\n",
    "def extract_words(data: str) -> list:\n",
    "    words = []\n",
    "    # Your code\n",
    "    return words\n",
    "\n",
    "# 5. Escriba en un archivo de texto todas las palabras encontradas en la cancion junto con las veces que se repiten\n",
    "# Ejemplo:\n",
    "# words.txt\n",
    "#    corazon: 10\n",
    "#    blanco: 20\n",
    "#    y: 20\n",
    "#    ..."
   ]
  },
  {
   "cell_type": "code",
   "execution_count": null,
   "id": "divine-imperial",
   "metadata": {},
   "outputs": [],
   "source": []
  }
 ],
 "metadata": {
  "kernelspec": {
   "display_name": "Python 3",
   "language": "python",
   "name": "python3"
  },
  "language_info": {
   "codemirror_mode": {
    "name": "ipython",
    "version": 3
   },
   "file_extension": ".py",
   "mimetype": "text/x-python",
   "name": "python",
   "nbconvert_exporter": "python",
   "pygments_lexer": "ipython3",
   "version": "3.7.10"
  }
 },
 "nbformat": 4,
 "nbformat_minor": 5
}
