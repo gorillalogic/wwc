{
 "cells": [
  {
   "cell_type": "code",
   "execution_count": null,
   "id": "centered-elephant",
   "metadata": {},
   "outputs": [],
   "source": [
    "# Phrase matching\n",
    "# ---------------\n",
    "#  You can think of it as a powerful version of Regex where we actually\n",
    "#  take parts of speech into account for our pattern search.\n",
    "\n",
    "#  Rule based matching: With spacy you can call a matcher, which will allow you\n",
    "#  to build a library token patterns, then match those patterns against a doc object\n",
    "#  to return a list of found maches\n",
    "\n",
    "# Resources:\n",
    "# - https://spacy.io/api/matcher"
   ]
  },
  {
   "cell_type": "code",
   "execution_count": 1,
   "id": "tracked-swift",
   "metadata": {},
   "outputs": [],
   "source": [
    "import spacy\n",
    "\n",
    "from spacy.matcher import Matcher\n",
    "\n",
    "\n",
    "nlp = spacy.load('en_core_web_sm')\n",
    "matcher = Matcher(nlp.vocab)"
   ]
  },
  {
   "cell_type": "code",
   "execution_count": 2,
   "id": "respiratory-alexander",
   "metadata": {},
   "outputs": [
    {
     "name": "stdout",
     "output_type": "stream",
     "text": [
      "[(8656102463236116519, 1, 3), (8656102463236116519, 2, 3), (8656102463236116519, 3, 4), (8656102463236116519, 8, 9), (8656102463236116519, 8, 9), (8656102463236116519, 9, 10), (8656102463236116519, 11, 14), (8656102463236116519, 13, 14)]\n"
     ]
    }
   ],
   "source": [
    "# Let's try to search for:\n",
    "# 1. solarpower\n",
    "# 2. solar-power\n",
    "# 3. solar power\n",
    "\n",
    "pattern1 = [{'LOWER': 'solarpower'}]  #1\n",
    "pattern2 = [{'LOWER': 'solar'}, {'IS_PUNCT': True}, {'LOWER': 'power'}]  #2\n",
    "pattern3 = [{'LOWER': 'solar'}, {'LOWER': 'power'}]  #3\n",
    "pattern4 = [{'POS': 'NOUN'}]\n",
    "# patterns = [pattern1, pattern2, pattern3]\n",
    "matcher.add('SolarPower', None, pattern1, pattern2, pattern3, pattern4)\n",
    "text = \"The solar power industry continues to grow as solarpower increases. solar-power is amazing\"\n",
    "doc = nlp(text)\n",
    "\n",
    "found_matches = matcher(doc)\n",
    "print(found_matches)"
   ]
  },
  {
   "cell_type": "code",
   "execution_count": 6,
   "id": "attached-christian",
   "metadata": {},
   "outputs": [
    {
     "name": "stdout",
     "output_type": "stream",
     "text": [
      "Text: solar power - Lemma: solar power\n",
      "Text: power - Lemma: power\n",
      "Text: industry - Lemma: industry\n",
      "Text: solarpower - Lemma: solarpower\n",
      "Text: solarpower - Lemma: solarpower\n",
      "Text: increases - Lemma: increase\n",
      "Text: solar-power - Lemma: solar - power\n",
      "Text: power - Lemma: power\n"
     ]
    }
   ],
   "source": [
    "for match_id, start, end in found_matches:\n",
    "    span = doc[start:end]\n",
    "    print(f'Text: {span.text} - Lemma: {span.lemma_}')"
   ]
  }
 ],
 "metadata": {
  "kernelspec": {
   "display_name": "Python 3",
   "language": "python",
   "name": "python3"
  },
  "language_info": {
   "codemirror_mode": {
    "name": "ipython",
    "version": 3
   },
   "file_extension": ".py",
   "mimetype": "text/x-python",
   "name": "python",
   "nbconvert_exporter": "python",
   "pygments_lexer": "ipython3",
   "version": "3.7.10"
  }
 },
 "nbformat": 4,
 "nbformat_minor": 5
}
