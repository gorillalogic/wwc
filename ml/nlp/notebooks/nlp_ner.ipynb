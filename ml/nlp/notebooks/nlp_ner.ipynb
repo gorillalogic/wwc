{
 "cells": [
  {
   "cell_type": "code",
   "execution_count": null,
   "id": "moderate-washer",
   "metadata": {},
   "outputs": [],
   "source": [
    "# Named-Entity Recognition (NER)\n",
    "# ------------------------------\n",
    "# It seeks to locate and classify named entity mentions in unstructured text into\n",
    "# pre-defined categories such as the person names, organizations, locations, medical\n",
    "# codes, time expressions, quantities, monetary values, percentages, etc."
   ]
  },
  {
   "cell_type": "code",
   "execution_count": 1,
   "id": "informative-insulin",
   "metadata": {},
   "outputs": [],
   "source": [
    "import spacy\n",
    "\n",
    "nlp = spacy.load('en_core_web_sm')"
   ]
  },
  {
   "cell_type": "code",
   "execution_count": 2,
   "id": "communist-creativity",
   "metadata": {},
   "outputs": [],
   "source": [
    "def show_ents(doc):\n",
    "    if doc.ents:\n",
    "        for ent in doc.ents:\n",
    "            print(ent.text + ': ' + ent.label_ + ' - ' + str(spacy.explain(ent.label_)))\n",
    "    else:\n",
    "        print('No entities found')\n",
    "        \n",
    "def get_entities(doc):\n",
    "    return doc.ents"
   ]
  },
  {
   "cell_type": "code",
   "execution_count": 5,
   "id": "stuffed-rotation",
   "metadata": {},
   "outputs": [
    {
     "name": "stdout",
     "output_type": "stream",
     "text": [
      "Washington, DC: GPE - Countries, cities, states\n",
      "next May: DATE - Absolute or relative dates or periods\n",
      "the Washington Document: ORG - Companies, agencies, institutions, etc.\n"
     ]
    }
   ],
   "source": [
    "# Showing Entities identified by Spacy\n",
    "text = \"May i go to Washington, DC next May to see the Washington Document?\"\n",
    "doc = nlp(text)\n",
    "show_ents(doc)"
   ]
  },
  {
   "cell_type": "code",
   "execution_count": 18,
   "id": "billion-inside",
   "metadata": {},
   "outputs": [
    {
     "name": "stdout",
     "output_type": "stream",
     "text": [
      "________________________________________\n",
      "ent.text:  Washington, DC\n",
      "ent.label:  382\n",
      "ent.label_: GPE\n",
      "ent.start:  4\n",
      "ent.end:  7\n",
      "ent.start_char:  12\n",
      "ent.end_char:  26\n",
      "________________________________________\n",
      "ent.text:  next May\n",
      "ent.label:  388\n",
      "ent.label_: DATE\n",
      "ent.start:  7\n",
      "ent.end:  9\n",
      "ent.start_char:  27\n",
      "ent.end_char:  35\n",
      "________________________________________\n",
      "ent.text:  the Washington Document\n",
      "ent.label:  381\n",
      "ent.label_: ORG\n",
      "ent.start:  11\n",
      "ent.end:  14\n",
      "ent.start_char:  43\n",
      "ent.end_char:  66\n",
      "the Washington Document\n",
      "<class 'spacy.tokens.span.Span'>\n",
      "the Washington Document\n"
     ]
    }
   ],
   "source": [
    "# Showing entity attributes\n",
    "\n",
    "# - ent.text -> Original text\n",
    "# - ent.label -> entity hash value\n",
    "# - ent.label_ -> entity type description\n",
    "# - ent.start -> Where does the token span starts in the doc\n",
    "# - ent.end -> Where does the token span ends in the doc\n",
    "# - ent.start_char \n",
    "# - ent.end_char\n",
    "ents = get_entities(doc)\n",
    "\n",
    "for ent in ents:\n",
    "    print('_'*40)\n",
    "    print('ent.text: ', ent.text)\n",
    "    print('ent.label: ', ent.label)\n",
    "    print('ent.label_:', ent.label_)\n",
    "    print('ent.start: ', ent.start)\n",
    "    print('ent.end: ', ent.end)\n",
    "    print('ent.start_char: ', ent.start_char)\n",
    "    print('ent.end_char: ', ent.end_char)\n",
    "    \n",
    "print(doc[ent.start: ent.end])\n",
    "print(type(doc[ent.start: ent.end]))\n",
    "print(text[ent.start_char: ent.end_char])"
   ]
  },
  {
   "cell_type": "code",
   "execution_count": 3,
   "id": "objective-tucson",
   "metadata": {},
   "outputs": [
    {
     "name": "stdout",
     "output_type": "stream",
     "text": [
      "(Colombia,)\n",
      "<class 'tuple'>\n",
      "True\n",
      "Colombia: GPE - Countries, cities, states\n"
     ]
    }
   ],
   "source": [
    "# Adding a Named Entity to our vocab\n",
    "text = \"Humber, in future he will be located in Colombia\"\n",
    "doc = nlp(text)\n",
    "show_ents(doc)\n",
    "# Humber is not recognizede by Spacy"
   ]
  },
  {
   "cell_type": "code",
   "execution_count": 29,
   "id": "involved-electric",
   "metadata": {},
   "outputs": [
    {
     "name": "stdout",
     "output_type": "stream",
     "text": [
      "Humber: GPE - Countries, cities, states\n",
      "Colombia: GPE - Countries, cities, states\n"
     ]
    }
   ],
   "source": [
    "from spacy.tokens import Span\n",
    "\n",
    "def add_entity_to_vocab(doc, start, end, entity_tag):\n",
    "    new_GPE = doc.vocab.strings[entity_tag]\n",
    "    new_ent = Span(doc, 0, 1, label=new_GPE)\n",
    "    doc.ents = list(doc.ents) + [new_ent]\n",
    "\n",
    "add_entity_to_vocab(doc, 0, 1, 'GPE')\n",
    "show_ents(doc)"
   ]
  },
  {
   "cell_type": "code",
   "execution_count": 3,
   "id": "electronic-iceland",
   "metadata": {},
   "outputs": [
    {
     "name": "stdout",
     "output_type": "stream",
     "text": [
      "No entities found\n"
     ]
    }
   ],
   "source": [
    "## Adding multiple terms in our NER\n",
    "# ---------------------------------\n",
    "text = \"\"\"Our companyy created a brand new vacuum cleaner. This new vacuum-cleaner is the best in show.\"\"\"\n",
    "doc = nlp(text)\n",
    "show_ents(doc) # No entities found"
   ]
  },
  {
   "cell_type": "code",
   "execution_count": 5,
   "id": "south-burlington",
   "metadata": {},
   "outputs": [
    {
     "name": "stdout",
     "output_type": "stream",
     "text": [
      "Found Matches:\n",
      "[(2689272359382549672, 6, 8), (2689272359382549672, 11, 14)]\n"
     ]
    }
   ],
   "source": [
    "from spacy.matcher import PhraseMatcher\n",
    "\n",
    "matcher = PhraseMatcher(nlp.vocab)\n",
    "phrase_list = ['vacuum cleaner', 'vacuum-cleaner']\n",
    "phrase_patterns = [nlp(text) for text in phrase_list]\n",
    "matcher.add('newproduct', None, *phrase_patterns)\n",
    "\n",
    "found_matches = matcher(doc)\n",
    "print(f\"Found Matches:\\n{found_matches}\")"
   ]
  },
  {
   "cell_type": "code",
   "execution_count": 6,
   "id": "surgical-sheffield",
   "metadata": {},
   "outputs": [
    {
     "name": "stdout",
     "output_type": "stream",
     "text": [
      "vacuum cleaner: PRODUCT - Objects, vehicles, foods, etc. (not services)\n",
      "vacuum-cleaner: PRODUCT - Objects, vehicles, foods, etc. (not services)\n"
     ]
    }
   ],
   "source": [
    "# Create spans\n",
    "from spacy.tokens import Span\n",
    "PROD = doc.vocab.strings[\"PRODUCT\"]\n",
    "\n",
    "new_ents = [Span(doc, match[1], match[2], label=PROD) for match in found_matches]\n",
    "doc.ents = list(doc.ents) + new_ents\n",
    "\n",
    "# Show entities again\n",
    "# Now, vacuum cleaner & vacuum-cleaner are recognized as named entity\n",
    "show_ents(doc)"
   ]
  },
  {
   "cell_type": "code",
   "execution_count": 7,
   "id": "persistent-object",
   "metadata": {},
   "outputs": [
    {
     "data": {
      "text/html": [
       "<div class=\"entities\" style=\"line-height: 2.5\">\n",
       "<mark class=\"entity\" style=\"background: #7aecec; padding: 0.45em 0.6em; margin: 0 0.25em; line-height: 1; border-radius: 0.35em; box-decoration-break: clone; -webkit-box-decoration-break: clone\">\n",
       "    McDonalds\n",
       "    <span style=\"font-size: 0.8em; font-weight: bold; line-height: 1; border-radius: 0.35em; text-transform: uppercase; vertical-align: middle; margin-left: 0.5rem\">ORG</span>\n",
       "</mark>\n",
       " sold \n",
       "<mark class=\"entity\" style=\"background: #e4e7d2; padding: 0.45em 0.6em; margin: 0 0.25em; line-height: 1; border-radius: 0.35em; box-decoration-break: clone; -webkit-box-decoration-break: clone\">\n",
       "    300 hundred\n",
       "    <span style=\"font-size: 0.8em; font-weight: bold; line-height: 1; border-radius: 0.35em; text-transform: uppercase; vertical-align: middle; margin-left: 0.5rem\">CARDINAL</span>\n",
       "</mark>\n",
       " burguers in \n",
       "<mark class=\"entity\" style=\"background: #bfe1d9; padding: 0.45em 0.6em; margin: 0 0.25em; line-height: 1; border-radius: 0.35em; box-decoration-break: clone; -webkit-box-decoration-break: clone\">\n",
       "    1 hour\n",
       "    <span style=\"font-size: 0.8em; font-weight: bold; line-height: 1; border-radius: 0.35em; text-transform: uppercase; vertical-align: middle; margin-left: 0.5rem\">TIME</span>\n",
       "</mark>\n",
       "</div>"
      ],
      "text/plain": [
       "<IPython.core.display.HTML object>"
      ]
     },
     "metadata": {},
     "output_type": "display_data"
    }
   ],
   "source": [
    "# Visualizing Entities\n",
    "# --------------------\n",
    "\n",
    "from spacy import displacy\n",
    "\n",
    "doc = nlp(\"McDonalds sold 300 hundred burguers in 1 hour\")\n",
    "displacy.render(doc, style='ent', jupyter=True)"
   ]
  },
  {
   "cell_type": "code",
   "execution_count": 14,
   "id": "christian-custom",
   "metadata": {},
   "outputs": [
    {
     "data": {
      "text/html": [
       "<div class=\"entities\" style=\"line-height: 2.5\">\n",
       "<mark class=\"entity\" style=\"background: yellow; padding: 0.45em 0.6em; margin: 0 0.25em; line-height: 1; border-radius: 0.35em; box-decoration-break: clone; -webkit-box-decoration-break: clone\">\n",
       "    McDonalds\n",
       "    <span style=\"font-size: 0.8em; font-weight: bold; line-height: 1; border-radius: 0.35em; text-transform: uppercase; vertical-align: middle; margin-left: 0.5rem\">ORG</span>\n",
       "</mark>\n",
       " sold \n",
       "<mark class=\"entity\" style=\"background: #e4e7d2; padding: 0.45em 0.6em; margin: 0 0.25em; line-height: 1; border-radius: 0.35em; box-decoration-break: clone; -webkit-box-decoration-break: clone\">\n",
       "    300 hundred\n",
       "    <span style=\"font-size: 0.8em; font-weight: bold; line-height: 1; border-radius: 0.35em; text-transform: uppercase; vertical-align: middle; margin-left: 0.5rem\">CARDINAL</span>\n",
       "</mark>\n",
       " burguers in 1 hour</div>"
      ],
      "text/plain": [
       "<IPython.core.display.HTML object>"
      ]
     },
     "metadata": {},
     "output_type": "display_data"
    }
   ],
   "source": [
    "# Highlighting some entities\n",
    "colors = {'ORG': 'yellow'}\n",
    "options = {'ents': ['ORG', 'CARDINAL'], 'colors': colors}\n",
    "displacy.render(doc, style='ent', jupyter=True, options=options)"
   ]
  }
 ],
 "metadata": {
  "kernelspec": {
   "display_name": "Python 3",
   "language": "python",
   "name": "python3"
  },
  "language_info": {
   "codemirror_mode": {
    "name": "ipython",
    "version": 3
   },
   "file_extension": ".py",
   "mimetype": "text/x-python",
   "name": "python",
   "nbconvert_exporter": "python",
   "pygments_lexer": "ipython3",
   "version": "3.7.10"
  }
 },
 "nbformat": 4,
 "nbformat_minor": 5
}
